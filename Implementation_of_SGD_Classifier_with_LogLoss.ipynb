{
  "nbformat": 4,
  "nbformat_minor": 0,
  "metadata": {
    "colab": {
      "name": "Implementation of SGD Classifier with LogLoss.ipynb",
      "provenance": [],
      "collapsed_sections": []
    },
    "kernelspec": {
      "name": "python3",
      "display_name": "Python 3"
    }
  },
  "cells": [
    {
      "cell_type": "markdown",
      "metadata": {
        "id": "7eiDWcM_MC3H"
      },
      "source": [
        "# <font color='red'>Implement SGD Classifier with Logloss and L2 regularization Using SGD without using sklearn</font>"
      ]
    },
    {
      "cell_type": "markdown",
      "metadata": {
        "id": "Fk5DSPCLxqT-"
      },
      "source": [
        "<font color='red'> Importing packages</font>"
      ]
    },
    {
      "cell_type": "code",
      "metadata": {
        "id": "42Et8BKIxnsp"
      },
      "source": [
        "import numpy as np\n",
        "import pandas as pd\n",
        "from sklearn.datasets import make_classification\n",
        "from sklearn.model_selection import train_test_split\n",
        "from sklearn.preprocessing import StandardScaler\n",
        "from sklearn import linear_model\n",
        "import matplotlib.pyplot as plt\n",
        "from tqdm import tqdm"
      ],
      "execution_count": null,
      "outputs": []
    },
    {
      "cell_type": "markdown",
      "metadata": {
        "id": "NpSk3WQBx7TQ"
      },
      "source": [
        "<font color='red'>Creating custom dataset</font>"
      ]
    },
    {
      "cell_type": "code",
      "metadata": {
        "id": "BsMp0oWzx6dv"
      },
      "source": [
        "X, y = make_classification(n_samples=50000, n_features=15, n_informative=10, n_redundant=5,\n",
        "                           n_classes=2, weights=[0.7], class_sep=0.7, random_state=15)"
      ],
      "execution_count": null,
      "outputs": []
    },
    {
      "cell_type": "code",
      "metadata": {
        "id": "L8W2fg1cyGdX",
        "colab": {
          "base_uri": "https://localhost:8080/"
        },
        "outputId": "ec2aeff0-c6cb-4cd1-b222-38e6ae36d1e3"
      },
      "source": [
        "X.shape, y.shape"
      ],
      "execution_count": null,
      "outputs": [
        {
          "output_type": "execute_result",
          "data": {
            "text/plain": [
              "((50000, 15), (50000,))"
            ]
          },
          "metadata": {
            "tags": []
          },
          "execution_count": 3
        }
      ]
    },
    {
      "cell_type": "markdown",
      "metadata": {
        "id": "x99RWCgpqNHw"
      },
      "source": [
        "<font color='red'>Splitting data into train and test </font>"
      ]
    },
    {
      "cell_type": "code",
      "metadata": {
        "id": "0Kh4dBfVyJMP"
      },
      "source": [
        "X_train, X_test, y_train, y_test = train_test_split(X, y, test_size=0.25, random_state=15)"
      ],
      "execution_count": null,
      "outputs": []
    },
    {
      "cell_type": "code",
      "metadata": {
        "id": "gONY1YiDq7jD"
      },
      "source": [
        "# Standardizing the data.\n",
        "scaler = StandardScaler()\n",
        "X_train = scaler.fit_transform(X_train)\n",
        "X_test = scaler.transform(X_test)"
      ],
      "execution_count": null,
      "outputs": []
    },
    {
      "cell_type": "code",
      "metadata": {
        "id": "0DR_YMBsyOci",
        "colab": {
          "base_uri": "https://localhost:8080/"
        },
        "outputId": "6cbf2c48-bdac-4d51-bbd8-d24e5b08d5aa"
      },
      "source": [
        "X_train.shape, y_train.shape, X_test.shape, y_test.shape"
      ],
      "execution_count": null,
      "outputs": [
        {
          "output_type": "execute_result",
          "data": {
            "text/plain": [
              "((37500, 15), (37500,), (12500, 15), (12500,))"
            ]
          },
          "metadata": {
            "tags": []
          },
          "execution_count": 6
        }
      ]
    },
    {
      "cell_type": "markdown",
      "metadata": {
        "id": "BW4OHswfqjHR"
      },
      "source": [
        "# <font color='red' size=5>SGD classifier using SKLearn</font>"
      ]
    },
    {
      "cell_type": "code",
      "metadata": {
        "id": "3HpvTwDHyQQy",
        "colab": {
          "base_uri": "https://localhost:8080/"
        },
        "outputId": "c7edd73e-3bd8-4e2b-ea8d-d4dd4402ba65"
      },
      "source": [
        "clf = linear_model.SGDClassifier(eta0=0.0001, alpha=0.0001, loss='log', random_state=15, penalty='l2', tol=1e-3, verbose=2, learning_rate='constant')\n",
        "clf"
      ],
      "execution_count": null,
      "outputs": [
        {
          "output_type": "execute_result",
          "data": {
            "text/plain": [
              "SGDClassifier(alpha=0.0001, average=False, class_weight=None,\n",
              "              early_stopping=False, epsilon=0.1, eta0=0.0001,\n",
              "              fit_intercept=True, l1_ratio=0.15, learning_rate='constant',\n",
              "              loss='log', max_iter=1000, n_iter_no_change=5, n_jobs=None,\n",
              "              penalty='l2', power_t=0.5, random_state=15, shuffle=True,\n",
              "              tol=0.001, validation_fraction=0.1, verbose=2, warm_start=False)"
            ]
          },
          "metadata": {
            "tags": []
          },
          "execution_count": 7
        }
      ]
    },
    {
      "cell_type": "code",
      "metadata": {
        "id": "YYaVyQ2lyXcr",
        "colab": {
          "base_uri": "https://localhost:8080/"
        },
        "outputId": "cdbdbb63-e456-4746-a21f-f29c810c2ae2"
      },
      "source": [
        "clf.fit(X=X_train, y=y_train) # fitting our model"
      ],
      "execution_count": null,
      "outputs": [
        {
          "output_type": "stream",
          "text": [
            "-- Epoch 1\n",
            "Norm: 0.70, NNZs: 15, Bias: -0.501317, T: 37500, Avg. loss: 0.552526\n",
            "Total training time: 0.01 seconds.\n",
            "-- Epoch 2\n",
            "Norm: 1.04, NNZs: 15, Bias: -0.752393, T: 75000, Avg. loss: 0.448021\n",
            "Total training time: 0.02 seconds.\n",
            "-- Epoch 3\n",
            "Norm: 1.26, NNZs: 15, Bias: -0.902742, T: 112500, Avg. loss: 0.415724\n",
            "Total training time: 0.03 seconds.\n",
            "-- Epoch 4\n",
            "Norm: 1.43, NNZs: 15, Bias: -1.003816, T: 150000, Avg. loss: 0.400895\n",
            "Total training time: 0.04 seconds.\n",
            "-- Epoch 5\n",
            "Norm: 1.55, NNZs: 15, Bias: -1.076296, T: 187500, Avg. loss: 0.392879\n",
            "Total training time: 0.04 seconds.\n",
            "-- Epoch 6\n",
            "Norm: 1.65, NNZs: 15, Bias: -1.131077, T: 225000, Avg. loss: 0.388094\n",
            "Total training time: 0.05 seconds.\n",
            "-- Epoch 7\n",
            "Norm: 1.73, NNZs: 15, Bias: -1.171791, T: 262500, Avg. loss: 0.385077\n",
            "Total training time: 0.06 seconds.\n",
            "-- Epoch 8\n",
            "Norm: 1.80, NNZs: 15, Bias: -1.203840, T: 300000, Avg. loss: 0.383074\n",
            "Total training time: 0.07 seconds.\n",
            "-- Epoch 9\n",
            "Norm: 1.86, NNZs: 15, Bias: -1.229563, T: 337500, Avg. loss: 0.381703\n",
            "Total training time: 0.08 seconds.\n",
            "-- Epoch 10\n",
            "Norm: 1.90, NNZs: 15, Bias: -1.251245, T: 375000, Avg. loss: 0.380763\n",
            "Total training time: 0.09 seconds.\n",
            "-- Epoch 11\n",
            "Norm: 1.94, NNZs: 15, Bias: -1.269044, T: 412500, Avg. loss: 0.380084\n",
            "Total training time: 0.09 seconds.\n",
            "-- Epoch 12\n",
            "Norm: 1.98, NNZs: 15, Bias: -1.282485, T: 450000, Avg. loss: 0.379607\n",
            "Total training time: 0.10 seconds.\n",
            "-- Epoch 13\n",
            "Norm: 2.01, NNZs: 15, Bias: -1.294386, T: 487500, Avg. loss: 0.379251\n",
            "Total training time: 0.11 seconds.\n",
            "-- Epoch 14\n",
            "Norm: 2.03, NNZs: 15, Bias: -1.305805, T: 525000, Avg. loss: 0.378992\n",
            "Total training time: 0.12 seconds.\n",
            "Convergence after 14 epochs took 0.12 seconds\n"
          ],
          "name": "stdout"
        },
        {
          "output_type": "execute_result",
          "data": {
            "text/plain": [
              "SGDClassifier(alpha=0.0001, average=False, class_weight=None,\n",
              "              early_stopping=False, epsilon=0.1, eta0=0.0001,\n",
              "              fit_intercept=True, l1_ratio=0.15, learning_rate='constant',\n",
              "              loss='log', max_iter=1000, n_iter_no_change=5, n_jobs=None,\n",
              "              penalty='l2', power_t=0.5, random_state=15, shuffle=True,\n",
              "              tol=0.001, validation_fraction=0.1, verbose=2, warm_start=False)"
            ]
          },
          "metadata": {
            "tags": []
          },
          "execution_count": 8
        }
      ]
    },
    {
      "cell_type": "code",
      "metadata": {
        "id": "EAfkVI6GyaRO",
        "colab": {
          "base_uri": "https://localhost:8080/"
        },
        "outputId": "11a6c921-ad66-4494-99f3-db3b0ff50421"
      },
      "source": [
        "clf.coef_, clf.coef_.shape, clf.intercept_"
      ],
      "execution_count": null,
      "outputs": [
        {
          "output_type": "execute_result",
          "data": {
            "text/plain": [
              "(array([[-0.89007184,  0.63162363, -0.07594145,  0.63107107, -0.38434375,\n",
              "          0.93235243, -0.89573521, -0.07340522,  0.40591417,  0.4199991 ,\n",
              "          0.24722143,  0.05046199, -0.08877987,  0.54081652,  0.06643888]]),\n",
              " (1, 15),\n",
              " array([-1.30580538]))"
            ]
          },
          "metadata": {
            "tags": []
          },
          "execution_count": 9
        }
      ]
    },
    {
      "cell_type": "markdown",
      "metadata": {
        "id": "_-CcGTKgsMrY"
      },
      "source": [
        "\n",
        "## <font color='red' size=5> Implement Logistic Regression with L2 regularization Using SGD: without using sklearn </font>\n",
        "\n"
      ]
    },
    {
      "cell_type": "markdown",
      "metadata": {
        "id": "ZR_HgjgS_wKu"
      },
      "source": [
        "<font color='blue'>Initialize weights </font>"
      ]
    },
    {
      "cell_type": "code",
      "metadata": {
        "id": "GecwYV9fsKZ9"
      },
      "source": [
        "def initialize_weights(dim):\n",
        "  w= np.array([0]*(len(dim)))                                                   #Generating a Array of zeros of size equal to the number of attributes\n",
        "  b=np.array([0])                                                               #Generating a co-efficient vector of size 1\n",
        "  return w,b"
      ],
      "execution_count": null,
      "outputs": []
    },
    {
      "cell_type": "code",
      "metadata": {
        "id": "A7I6uWBRsKc4",
        "colab": {
          "base_uri": "https://localhost:8080/"
        },
        "outputId": "9d646c56-28a7-4c58-e9c4-bc3b9961d550"
      },
      "source": [
        "dim=X_train[0]\n",
        "w,b = initialize_weights(dim)\n",
        "print('w =',(w))\n",
        "print('b =',str(b))\n",
        "type(w)"
      ],
      "execution_count": null,
      "outputs": [
        {
          "output_type": "stream",
          "text": [
            "w = [0 0 0 0 0 0 0 0 0 0 0 0 0 0 0]\n",
            "b = [0]\n"
          ],
          "name": "stdout"
        },
        {
          "output_type": "execute_result",
          "data": {
            "text/plain": [
              "numpy.ndarray"
            ]
          },
          "metadata": {
            "tags": []
          },
          "execution_count": 11
        }
      ]
    },
    {
      "cell_type": "markdown",
      "metadata": {
        "id": "QN83oMWy_5rv"
      },
      "source": [
        "<font color='blue'>Compute sigmoid </font>"
      ]
    },
    {
      "cell_type": "markdown",
      "metadata": {
        "id": "qPv4NJuxABgs"
      },
      "source": [
        "$sigmoid(z)= 1/(1+exp(-z))$"
      ]
    },
    {
      "cell_type": "code",
      "metadata": {
        "id": "nAfmQF47_Sd6"
      },
      "source": [
        "import math\n",
        "def sigmoid(z):\n",
        "  a= 1/(1+math.exp(-z))                                                         #Computing the value as per the formula mentioned\n",
        "  return a "
      ],
      "execution_count": null,
      "outputs": []
    },
    {
      "cell_type": "markdown",
      "metadata": {
        "id": "gS7JXbcrBOFF"
      },
      "source": [
        "<font color='blue'> Compute loss </font>"
      ]
    },
    {
      "cell_type": "markdown",
      "metadata": {
        "id": "lfEiS22zBVYy"
      },
      "source": [
        "$log loss = -1*\\frac{1}{n}\\Sigma_{for each Yt,Y_{pred}}(Ytlog10(Y_{pred})+(1-Yt)log10(1-Y_{pred}))$"
      ]
    },
    {
      "cell_type": "code",
      "metadata": {
        "id": "VaFDgsp3sKi6"
      },
      "source": [
        "def logloss(y_true,y_pred):\n",
        "  loss=0                                                                                      #Initializing a variable\n",
        "  \n",
        "  for i in range(len(y_true)):                                                                #Looping through all the Y values \n",
        "    loss= loss+ (y_true[i])*(math.log10(y_pred[i]))+((1-y_true[i])*(math.log10(1-y_pred[i]))) #Computing the Logloss\n",
        "  loss= -1*(loss/len(y_true))\n",
        "  \n",
        "  return loss"
      ],
      "execution_count": null,
      "outputs": []
    },
    {
      "cell_type": "markdown",
      "metadata": {
        "id": "tQabIadLCBAB"
      },
      "source": [
        "<font color='blue'>Compute gradient w.r.to  'w' </font>"
      ]
    },
    {
      "cell_type": "markdown",
      "metadata": {
        "id": "YTMxiYKaCQgd"
      },
      "source": [
        "$dw^{(t)} = x_n(y_n − σ((w^{(t)})^{T} x_n+b^{t}))- \\frac{λ}{N}w^{(t)}$ <br>"
      ]
    },
    {
      "cell_type": "code",
      "metadata": {
        "id": "NMVikyuFsKo5"
      },
      "source": [
        "def gradient_dw(x,y,w,b,alpha,N):\n",
        "    m= np.dot(np.transpose(w),x)                                                #Computing the dot product of the weight vector and the x vector\n",
        "    s= sigmoid(m+b)                                                             #Taking the siigmoid of the result of the dot product and the co-efficient\n",
        "    dw= (x*(y-s))- ((alpha/N)*w)                                                #Computing the Gradient\n",
        "    return dw"
      ],
      "execution_count": null,
      "outputs": []
    },
    {
      "cell_type": "markdown",
      "metadata": {
        "id": "LE8g84_GI62n"
      },
      "source": [
        "<font color='blue'>Compute gradient w.r.to 'b' </font>"
      ]
    },
    {
      "cell_type": "markdown",
      "metadata": {
        "id": "fHvTYZzZJJ_N"
      },
      "source": [
        "$ db^{(t)} = y_n- σ((w^{(t)})^{T} x_n+b^{t})$"
      ]
    },
    {
      "cell_type": "code",
      "metadata": {
        "id": "0nUf2ft4EZp8"
      },
      "source": [
        " def gradient_db(x,y,w,b):\n",
        "   m= np.dot(np.transpose(w),x)                                                 #Computing the dot product of the weight vector and the X vector\n",
        "   s= sigmoid(m+b)                                                              #Taking the sigmoid value of the co-efficient and the dot product\n",
        "   db= y-s                                                                      #Calculating the gradient\n",
        "   return db"
      ],
      "execution_count": null,
      "outputs": []
    },
    {
      "cell_type": "markdown",
      "metadata": {
        "id": "TCK0jY_EOvyU"
      },
      "source": [
        "<font color='blue'> Implementing logistic regression</font>"
      ]
    },
    {
      "cell_type": "code",
      "metadata": {
        "id": "4HcEPma5O_AP"
      },
      "source": [
        "def train(X_train,y_train,X_test,y_test,epochs,alpha,eta0):\n",
        "  \n",
        "  w,b= initialize_weights(X_train[0])                                           #Initializing the weights and the intercept values to zero\n",
        "  train_loss=[]                                                                 #initializing lists\n",
        "  test_loss=[]\n",
        "\n",
        "  for i in tqdm(range(epochs)):                                                       #Looping through 50 epochs\n",
        "    w_g, w_b= initialize_weights(X_train[0])                                    #Initializing the weights, intercept and lists for predecting the train and test data\n",
        "    pred_tr=[]\n",
        "    pred_te=[]\n",
        "    for j in range(len(X_train)):                                               #Looping through each row item of the Train Data\n",
        "      w_g= w_g + gradient_dw(X_train[j],y_train[j],w,b,alpha,len(X_train))      #Computing the gradient of the weights and the Gradient\n",
        "\n",
        "      w_b= w_b + gradient_db(X_train[j],y_train[j],w,b)\n",
        "\n",
        "    w= w + (eta0*w_g)                                                           #Computing the updated weights \n",
        "    b= b + (eta0*w_b)\n",
        "\n",
        "    for k in range(len(X_train)):                                               #Predicting the probablity of y=1 for each of the rows or observations in X_train\n",
        "      t= sigmoid(b[0]+ np.dot(np.transpose(w),X_train[k]))                      #Using the formula for a generalized logistic plane y= sigmoid(b0+b1X1+b2X2+b3X3......bnXn)\n",
        "      pred_tr.append(t)\n",
        "    \n",
        "    for l in range(len(X_test)):                                                #Predicting the probablity of y=1 for each of the rows or observations in X_test\n",
        "      e= sigmoid(b[0]+ np.dot(np.transpose(w),X_test[l]))                       #Using the formula for a generalized logistic plane y= sigmoid(b0+b1X1+b2X2+b3X3......bnXn)\n",
        "      pred_te.append(e)\n",
        "\n",
        "    train_loss.append(logloss(y_train,pred_tr))                                 #leveraging the custom defined logloss function to predict the loss for train data\n",
        "    test_loss.append(logloss(y_test,pred_te))                                   #leveraging the custom defined logloss function to predict the loss for test data\n",
        "    \n",
        "  return w,b,train_loss,test_loss "
      ],
      "execution_count": null,
      "outputs": []
    },
    {
      "cell_type": "markdown",
      "metadata": {
        "id": "5yHFIJ9A4x4N"
      },
      "source": [
        "##Experimentation with Learning Rate and the number of epochs"
      ]
    },
    {
      "cell_type": "code",
      "metadata": {
        "id": "sUquz7LFEZ6E",
        "colab": {
          "base_uri": "https://localhost:8080/"
        },
        "outputId": "920bd08d-5082-4073-c8f3-08111b831045"
      },
      "source": [
        "alpha=0.0001\n",
        "eta0=0.0001\n",
        "N=len(X_train)\n",
        "epochs=100\n",
        "w,b,trainloss,testloss=train(X_train,y_train,X_test,y_test,epochs,alpha,eta0)"
      ],
      "execution_count": null,
      "outputs": [
        {
          "output_type": "stream",
          "text": [
            "100%|██████████| 100/100 [02:10<00:00,  1.31s/it]\n"
          ],
          "name": "stderr"
        }
      ]
    },
    {
      "cell_type": "code",
      "metadata": {
        "colab": {
          "base_uri": "https://localhost:8080/"
        },
        "id": "hLgXMieZ8s4_",
        "outputId": "a5206194-a15a-4278-979b-31e4b4d68031"
      },
      "source": [
        "print('Weights Vector:',w)\n",
        "print('Intercept:',b)"
      ],
      "execution_count": null,
      "outputs": [
        {
          "output_type": "stream",
          "text": [
            "Weights Vector: [-0.96916963  0.6907395  -0.10883913  0.68400753 -0.44554536  1.00767742\n",
            " -0.94384833 -0.07438447  0.44375895  0.48399761  0.27346675  0.05893538\n",
            " -0.09750677  0.57160667  0.06378823]\n",
            "Intercept: [-1.37237492]\n"
          ],
          "name": "stdout"
        }
      ]
    },
    {
      "cell_type": "code",
      "metadata": {
        "colab": {
          "base_uri": "https://localhost:8080/"
        },
        "id": "P3G-KHTS9NL9",
        "outputId": "f15fa016-701b-4d4b-a8a1-bdef0902d912"
      },
      "source": [
        "clf.coef_, clf.coef_.shape, clf.intercept_"
      ],
      "execution_count": null,
      "outputs": [
        {
          "output_type": "execute_result",
          "data": {
            "text/plain": [
              "(array([[-0.89007184,  0.63162363, -0.07594145,  0.63107107, -0.38434375,\n",
              "          0.93235243, -0.89573521, -0.07340522,  0.40591417,  0.4199991 ,\n",
              "          0.24722143,  0.05046199, -0.08877987,  0.54081652,  0.06643888]]),\n",
              " (1, 15),\n",
              " array([-1.30580538]))"
            ]
          },
          "metadata": {
            "tags": []
          },
          "execution_count": 25
        }
      ]
    },
    {
      "cell_type": "code",
      "metadata": {
        "colab": {
          "base_uri": "https://localhost:8080/"
        },
        "id": "j-gjjamguMmQ",
        "outputId": "5336b8e3-918f-45a0-d0ca-a427d177aeb0"
      },
      "source": [
        "alpha=0.0001\n",
        "eta0=0.00001\n",
        "N=len(X_train)\n",
        "epochs=100\n",
        "w1,b1,trainloss1,testloss1=train(X_train,y_train,X_test,y_test,epochs,alpha,eta0)"
      ],
      "execution_count": null,
      "outputs": [
        {
          "output_type": "stream",
          "text": [
            "100%|██████████| 100/100 [02:11<00:00,  1.32s/it]\n"
          ],
          "name": "stderr"
        }
      ]
    },
    {
      "cell_type": "code",
      "metadata": {
        "colab": {
          "base_uri": "https://localhost:8080/"
        },
        "id": "gx1ow7iDuMes",
        "outputId": "1f46cbe2-6127-45e9-9861-447c9b104f89"
      },
      "source": [
        "alpha=0.0001\n",
        "eta0=0.00005\n",
        "N=len(X_train)\n",
        "epochs=30\n",
        "w2,b2,trainloss2,testlos2=train(X_train,y_train,X_test,y_test,epochs,alpha,eta0)"
      ],
      "execution_count": null,
      "outputs": [
        {
          "output_type": "stream",
          "text": [
            "100%|██████████| 30/30 [00:39<00:00,  1.32s/it]\n"
          ],
          "name": "stderr"
        }
      ]
    },
    {
      "cell_type": "code",
      "metadata": {
        "colab": {
          "base_uri": "https://localhost:8080/"
        },
        "id": "moyOkhK-uMVz",
        "outputId": "38b9d2a3-cf87-462f-d42a-5aee09724e66"
      },
      "source": [
        "alpha=0.0001\n",
        "eta0=0.00005\n",
        "N=len(X_train)\n",
        "epochs=25\n",
        "w3,b3,trainloss3,testlos3=train(X_train,y_train,X_test,y_test,epochs,alpha,eta0)"
      ],
      "execution_count": null,
      "outputs": [
        {
          "output_type": "stream",
          "text": [
            "100%|██████████| 25/25 [00:33<00:00,  1.33s/it]\n"
          ],
          "name": "stderr"
        }
      ]
    },
    {
      "cell_type": "markdown",
      "metadata": {
        "id": "5MIz_bAD491U"
      },
      "source": [
        "###Commparison between the implementation and the SGDClassifier's for various values of epochs and the learning rate"
      ]
    },
    {
      "cell_type": "markdown",
      "metadata": {
        "id": "Z8XnI86N5QGW"
      },
      "source": [
        "###epoch= 100, learning rate= 0.0001"
      ]
    },
    {
      "cell_type": "code",
      "metadata": {
        "id": "nx8Rs9rfEZ1R",
        "colab": {
          "base_uri": "https://localhost:8080/"
        },
        "outputId": "947234b7-7b91-48b1-f225-99a32b4cf1ec"
      },
      "source": [
        "# these are the results we got after we implemented sgd and found the optimal weights and intercept\n",
        "w-clf.coef_, b-clf.intercept_"
      ],
      "execution_count": null,
      "outputs": [
        {
          "output_type": "execute_result",
          "data": {
            "text/plain": [
              "(array([[-0.07909779,  0.05911587, -0.03289769,  0.05293646, -0.06120161,\n",
              "          0.07532498, -0.04811312, -0.00097925,  0.03784478,  0.06399851,\n",
              "          0.02624533,  0.00847339, -0.0087269 ,  0.03079015, -0.00265065]]),\n",
              " array([-0.06656954]))"
            ]
          },
          "metadata": {
            "tags": []
          },
          "execution_count": 26
        }
      ]
    },
    {
      "cell_type": "markdown",
      "metadata": {
        "id": "tZJU256L5e8o"
      },
      "source": [
        "###epochs= 100, learning rate= 0.00001"
      ]
    },
    {
      "cell_type": "code",
      "metadata": {
        "colab": {
          "base_uri": "https://localhost:8080/"
        },
        "id": "b0emDp2-uZVm",
        "outputId": "3b57e8d3-1bcd-4dec-a5da-4d5ad73977bc"
      },
      "source": [
        "w1-clf.coef_, b1-clf.intercept_"
      ],
      "execution_count": null,
      "outputs": [
        {
          "output_type": "execute_result",
          "data": {
            "text/plain": [
              "(array([[ 0.05445406, -0.03909192,  0.02271648, -0.03578876,  0.04535519,\n",
              "         -0.05226083,  0.03640019,  0.00374152, -0.02308156, -0.04441952,\n",
              "         -0.01866725, -0.00434217,  0.00718801, -0.02497817,  0.00390873]]),\n",
              " array([0.0519836]))"
            ]
          },
          "metadata": {
            "tags": []
          },
          "execution_count": 34
        }
      ]
    },
    {
      "cell_type": "markdown",
      "metadata": {
        "id": "U0CkQKfX5qLK"
      },
      "source": [
        "###Observation: From the above two scenarios we see that the difference reduces with the decrease in the learning rate hence decreasing the number of epochs and margninally increasing the learning rate"
      ]
    },
    {
      "cell_type": "markdown",
      "metadata": {
        "id": "0EG8G06D6H24"
      },
      "source": [
        "###epochs= 30, learning rate= 0.00005"
      ]
    },
    {
      "cell_type": "code",
      "metadata": {
        "colab": {
          "base_uri": "https://localhost:8080/"
        },
        "id": "EhakQ4gyxIeR",
        "outputId": "66bd4357-97a2-498e-9b01-b44572952cf0"
      },
      "source": [
        "w2-clf.coef_, b2-clf.intercept_"
      ],
      "execution_count": null,
      "outputs": [
        {
          "output_type": "execute_result",
          "data": {
            "text/plain": [
              "(array([[-2.06584069e-02,  1.62490457e-02, -7.55290666e-03,\n",
              "          1.44268759e-02, -1.32423839e-02,  1.91169892e-02,\n",
              "         -1.31486938e-02,  2.06675738e-04,  1.08525749e-02,\n",
              "          1.57616105e-02,  6.52889919e-03,  3.01007751e-03,\n",
              "         -1.89383685e-03,  7.83176919e-03, -4.43569455e-05]]),\n",
              " array([-0.01691533]))"
            ]
          },
          "metadata": {
            "tags": []
          },
          "execution_count": 49
        }
      ]
    },
    {
      "cell_type": "markdown",
      "metadata": {
        "id": "MUplLZbu6Rtt"
      },
      "source": [
        "###Observation: We see that the difference has reduced to good extent. Hence trying to reduce further. \n",
        "\n",
        "### Epochs= 25, Learning Rate= 0.00005 **(FINAL Hyperparameter Set)**"
      ]
    },
    {
      "cell_type": "code",
      "metadata": {
        "colab": {
          "base_uri": "https://localhost:8080/"
        },
        "id": "mwjE-8Im2mkh",
        "outputId": "c71c500d-dcdc-4f86-dbbd-5d5fe05da8ea"
      },
      "source": [
        "w3-clf.coef_, b3-clf.intercept_"
      ],
      "execution_count": null,
      "outputs": [
        {
          "output_type": "execute_result",
          "data": {
            "text/plain": [
              "(array([[ 0.00472216, -0.00242757,  0.003248  , -0.0023811 ,  0.00732789,\n",
              "         -0.00518658,  0.00249993,  0.00098669, -0.00077947, -0.00501204,\n",
              "         -0.00203296,  0.00057679,  0.00110909, -0.00252246,  0.00120556]]),\n",
              " array([0.00520713]))"
            ]
          },
          "metadata": {
            "tags": []
          },
          "execution_count": 61
        }
      ]
    },
    {
      "cell_type": "markdown",
      "metadata": {
        "id": "vRtZaLR96lU-"
      },
      "source": [
        "###Observation: The difference in the range of 10^-3. Hence the final set of Hyperparameters are as below\n",
        "\n",
        "##Epochs= 25, Learning Rate= 0.00005"
      ]
    },
    {
      "cell_type": "markdown",
      "metadata": {
        "id": "230YbSgNSUrQ"
      },
      "source": [
        "<font color='blue'>Plot epoch number vs train , test loss </font>\n",
        "\n",
        "* epoch number on X-axis\n",
        "* loss on Y-axis"
      ]
    },
    {
      "cell_type": "code",
      "metadata": {
        "id": "1O6GrRt7UeCJ",
        "colab": {
          "base_uri": "https://localhost:8080/",
          "height": 350
        },
        "outputId": "0c3c761a-34d0-4473-8a58-e3a38fd3e6fe"
      },
      "source": [
        "plt.figure(figsize= (10,5))                                                     #Adjusting the size of the Plot\n",
        "ep= list(range(1,101))                                                           #epoch values\n",
        "plt.plot(ep,trainloss,label= 'Train Loss')                                      #Plotting the Training Loss\n",
        "plt.plot(ep,testloss, label= \"Test Loss\")                                       #Plotting the Test Loss\n",
        "plt.legend()                                                                    #Displaying the Legend\n",
        "plt.xlabel(\"Epoch\")                                                             #Setting the x,y labels and the Title of the Plot\n",
        "plt.ylabel(\"Log-Loss\")\n",
        "plt.title(\"epoch Vs Train & Test Loss\")\n",
        "plt.show()"
      ],
      "execution_count": null,
      "outputs": [
        {
          "output_type": "display_data",
          "data": {
            "image/png": "[encoded data removed]",
            "text/plain": [
              "<Figure size 720x360 with 1 Axes>"
            ]
          },
          "metadata": {
            "tags": [],
            "needs_background": "light"
          }
        }
      ]
    },
    {
      "cell_type": "markdown",
      "metadata": {
        "id": "MiA1wiIp7NjT"
      },
      "source": [
        "##Plot of the Loss for final scenario (Epochs=25, Learning Rate= 0.00005)"
      ]
    },
    {
      "cell_type": "code",
      "metadata": {
        "colab": {
          "base_uri": "https://localhost:8080/",
          "height": 350
        },
        "id": "FwLZs7_GwavY",
        "outputId": "195b8a3a-0dc4-4967-8ac7-4f296f7d153f"
      },
      "source": [
        "plt.figure(figsize= (10,5))                                                     #Adjusting the size of the Plot\n",
        "ep= list(range(1,26))                                                           #epoch values\n",
        "plt.plot(ep,trainloss3,label= 'Train Loss')                                      #Plotting the Training Loss\n",
        "plt.plot(ep,testlos3, label= \"Test Loss\")                                       #Plotting the Test Loss\n",
        "plt.legend()                                                                    #Displaying the Legend\n",
        "plt.xlabel(\"Epoch\")                                                             #Setting the x,y labels and the Title of the Plot\n",
        "plt.ylabel(\"Log-Loss\")\n",
        "plt.title(\"epoch Vs Train & Test Loss\")\n",
        "plt.show()"
      ],
      "execution_count": null,
      "outputs": [
        {
          "output_type": "display_data",
          "data": {
            "image/png": "[encoded data removed]",
            "text/plain": [
              "<Figure size 720x360 with 1 Axes>"
            ]
          },
          "metadata": {
            "tags": [],
            "needs_background": "light"
          }
        }
      ]
    },
    {
      "cell_type": "code",
      "metadata": {
        "id": "FUN8puFoEZtU",
        "colab": {
          "base_uri": "https://localhost:8080/"
        },
        "outputId": "a90d4d32-dc90-421c-9063-a2d686f5a4c6"
      },
      "source": [
        "def pred(w,b, X):\n",
        "    N = len(X)\n",
        "    predict = []\n",
        "    for i in range(N):\n",
        "        z=np.dot(w,X[i])+b\n",
        "        if sigmoid(z) >= 0.5: # sigmoid(w,x,b) returns 1/(1+exp(-(dot(x,w)+b)))\n",
        "            predict.append(1)\n",
        "        else:\n",
        "            predict.append(0)\n",
        "    return np.array(predict)\n",
        "print(1-np.sum(y_train - pred(w3,b3,X_train))/len(X_train))\n",
        "print(1-np.sum(y_test  - pred(w3,b3,X_test))/len(X_test))"
      ],
      "execution_count": null,
      "outputs": [
        {
          "output_type": "stream",
          "text": [
            "0.94968\n",
            "0.9468799999999999\n"
          ],
          "name": "stdout"
        }
      ]
    },
    {
      "cell_type": "code",
      "metadata": {
        "id": "BuI5V12UJafM"
      },
      "source": [
        ""
      ],
      "execution_count": null,
      "outputs": []
    }
  ]
}