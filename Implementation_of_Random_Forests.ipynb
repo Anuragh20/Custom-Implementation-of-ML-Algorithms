{
  "nbformat": 4,
  "nbformat_minor": 0,
  "metadata": {
    "colab": {
      "name": "Implementation of Random Forests.ipynb",
      "provenance": [],
      "collapsed_sections": []
    },
    "kernelspec": {
      "name": "python3",
      "display_name": "Python 3"
    }
  },
  "cells": [
    {
      "cell_type": "markdown",
      "metadata": {
        "id": "3sNKZq4XrXQh"
      },
      "source": [
        "# <font color='red'><b>Implementation of Radom Forests</b> </font>"
      ]
    },
    {
      "cell_type": "markdown",
      "metadata": {
        "id": "cuxBq_bvrwh2"
      },
      "source": [
        "<font color='blue'> <b>Importing packages</b> </font>"
      ]
    },
    {
      "cell_type": "code",
      "metadata": {
        "id": "m6ag91ijrQOs"
      },
      "source": [
        "import numpy as np # importing numpy for numerical computation\n",
        "from sklearn.datasets import load_boston # here we are using sklearn's boston dataset\n",
        "from sklearn.metrics import mean_squared_error # importing mean_squared_error metric\n",
        "import random\n",
        "from statistics import mean\n",
        "from statistics import stdev"
      ],
      "execution_count": null,
      "outputs": []
    },
    {
      "cell_type": "code",
      "metadata": {
        "id": "CcHOsONTt1K_"
      },
      "source": [
        "boston = load_boston()                                                          \n",
        "x=boston.data #independent variables\n",
        "y=boston.target #target variable"
      ],
      "execution_count": null,
      "outputs": []
    },
    {
      "cell_type": "code",
      "metadata": {
        "id": "pc1htEFYuLRj",
        "colab": {
          "base_uri": "https://localhost:8080/"
        },
        "outputId": "193b0d62-c1cf-4bea-e056-38909682fb1d"
      },
      "source": [
        "x.shape"
      ],
      "execution_count": null,
      "outputs": [
        {
          "output_type": "execute_result",
          "data": {
            "text/plain": [
              "(506, 13)"
            ]
          },
          "metadata": {
            "tags": []
          },
          "execution_count": 3
        }
      ]
    },
    {
      "cell_type": "code",
      "metadata": {
        "colab": {
          "base_uri": "https://localhost:8080/"
        },
        "id": "WOQB5qFYzX5D",
        "outputId": "4de12797-0fd9-4ade-f944-5e7acc181530"
      },
      "source": [
        "x[0][:10]"
      ],
      "execution_count": null,
      "outputs": [
        {
          "output_type": "execute_result",
          "data": {
            "text/plain": [
              "array([6.320e-03, 1.800e+01, 2.310e+00, 0.000e+00, 5.380e-01, 6.575e+00,\n",
              "       6.520e+01, 4.090e+00, 1.000e+00, 2.960e+02])"
            ]
          },
          "metadata": {
            "tags": []
          },
          "execution_count": 4
        }
      ]
    },
    {
      "cell_type": "code",
      "metadata": {
        "id": "kQle3T_wuOa3",
        "colab": {
          "base_uri": "https://localhost:8080/"
        },
        "outputId": "bd1c41e3-d3f2-495d-db9e-5ad82f5451fc"
      },
      "source": [
        "x[:5,:3]"
      ],
      "execution_count": null,
      "outputs": [
        {
          "output_type": "execute_result",
          "data": {
            "text/plain": [
              "array([[6.320e-03, 1.800e+01, 2.310e+00],\n",
              "       [2.731e-02, 0.000e+00, 7.070e+00],\n",
              "       [2.729e-02, 0.000e+00, 7.070e+00],\n",
              "       [3.237e-02, 0.000e+00, 2.180e+00],\n",
              "       [6.905e-02, 0.000e+00, 2.180e+00]])"
            ]
          },
          "metadata": {
            "tags": []
          },
          "execution_count": 5
        }
      ]
    },
    {
      "cell_type": "code",
      "metadata": {
        "id": "XE07DZSCYTSB"
      },
      "source": [
        "l= [1,3,5,6,7,10]"
      ],
      "execution_count": null,
      "outputs": []
    },
    {
      "cell_type": "code",
      "metadata": {
        "colab": {
          "base_uri": "https://localhost:8080/"
        },
        "id": "iG_iPdDUUfvT",
        "outputId": "78e4d9fd-08f6-49d1-ae03-77175e869f86"
      },
      "source": [
        "row= list(range(len(x)))\n",
        "print(row[:10])"
      ],
      "execution_count": null,
      "outputs": [
        {
          "output_type": "stream",
          "text": [
            "[0, 1, 2, 3, 4, 5, 6, 7, 8, 9]\n"
          ],
          "name": "stdout"
        }
      ]
    },
    {
      "cell_type": "code",
      "metadata": {
        "colab": {
          "base_uri": "https://localhost:8080/"
        },
        "id": "OMbqJr_BYW4O",
        "outputId": "389513be-b91b-4965-e801-92ea8980890b"
      },
      "source": [
        "col= list(range(len(x[0])))\n",
        "print(col)"
      ],
      "execution_count": null,
      "outputs": [
        {
          "output_type": "stream",
          "text": [
            "[0, 1, 2, 3, 4, 5, 6, 7, 8, 9, 10, 11, 12]\n"
          ],
          "name": "stdout"
        }
      ]
    },
    {
      "cell_type": "markdown",
      "metadata": {
        "id": "lJXX8vf3z073"
      },
      "source": [
        "<font color='blue'> <b>Generating samples</b></font>"
      ]
    },
    {
      "cell_type": "code",
      "metadata": {
        "id": "yz0MLn-uXobG"
      },
      "source": [
        "import random\n",
        "from random import sample\n",
        "import numpy as np\n",
        "from tqdm import tqdm                                                              \n",
        "from sklearn.tree import DecisionTreeRegressor"
      ],
      "execution_count": null,
      "outputs": []
    },
    {
      "cell_type": "code",
      "metadata": {
        "id": "VzRENOUIz8GO"
      },
      "source": [
        "def generating_samples(input_data, target_data):\n",
        "\n",
        "    row1= list(range(len(input_data)))\n",
        "    sr_x= sample(row1,303)\n",
        "\n",
        "    col= list(range(3,13))\n",
        "\n",
        "    r_num= random.randint(3,10)\n",
        "\n",
        "    c_x= sample(col,r_num)\n",
        "\n",
        "    x_data= input_data[sr_x]\n",
        "    sx_data= x_data[:,c_x]\n",
        "\n",
        "    sy_data= target_data[sr_x]\n",
        "\n",
        "    row2= list(range(len(sx_data)))\n",
        "\n",
        "    rr_x= sample(row2,203)\n",
        "\n",
        "    rsx_data= sx_data[rr_x]\n",
        "    ry_data= sy_data[rr_x]\n",
        "\n",
        "    final_sample_data= np.vstack((sx_data,rsx_data))\n",
        "    final_target_data= np.vstack((sy_data.reshape(-1,1),ry_data.reshape(-1,1)))\n",
        "\n",
        "    return final_sample_data,final_target_data,sr_x,c_x"
      ],
      "execution_count": null,
      "outputs": []
    },
    {
      "cell_type": "markdown",
      "metadata": {
        "id": "b4LSsmn4Jn2_"
      },
      "source": [
        "<font color='blue'> <b>Creating 30 samples </b>"
      ]
    },
    {
      "cell_type": "code",
      "metadata": {
        "id": "XXlKWjCcBvTk"
      },
      "source": [
        "# Use generating_samples function to create 30 samples \n",
        "# store these created samples in a list\n",
        "def selections(x,y):\n",
        "    list_input_data =[]\n",
        "    list_output_data =[]\n",
        "    list_selected_row= []\n",
        "    list_selected_columns=[]\n",
        "\n",
        "    for i in tqdm(range(0,30)):\n",
        "        a,b,c,d= generating_samples(x,y)\n",
        "        list_input_data.append(a)\n",
        "        list_output_data.append(b)\n",
        "        list_selected_row.append(c)\n",
        "        list_selected_columns.append(d)\n",
        "    \n",
        "    return list_input_data,list_output_data,list_selected_row,list_selected_columns"
      ],
      "execution_count": null,
      "outputs": []
    },
    {
      "cell_type": "code",
      "metadata": {
        "colab": {
          "base_uri": "https://localhost:8080/"
        },
        "id": "SXj-X6lQxsH_",
        "outputId": "12f24aba-f5e7-4b95-d5d7-93ce5fc10849"
      },
      "source": [
        "list_input_data_f,list_output_data_f,list_selected_row_f,list_selected_columns_f= selections(x,y)"
      ],
      "execution_count": null,
      "outputs": [
        {
          "output_type": "stream",
          "text": [
            "100%|██████████| 30/30 [00:00<00:00, 1409.66it/s]\n"
          ],
          "name": "stderr"
        }
      ]
    },
    {
      "cell_type": "markdown",
      "metadata": {
        "id": "WRwPO_uHQjul"
      },
      "source": [
        "<font color='blue'><b> Code for building regression trees</b></font>"
      ]
    },
    {
      "cell_type": "code",
      "metadata": {
        "id": "YWQp6tRwMthq"
      },
      "source": [
        "def build_trees(list_input_data,list_output_data,list_selected_row,list_selected_columns):\n",
        "    list_of_all_models= []\n",
        "\n",
        "    for i in tqdm(range(len(list_input_data))):\n",
        "        reg= DecisionTreeRegressor()\n",
        "        model= reg.fit(list_input_data[i],list_output_data[i])\n",
        "        list_of_all_models.append(model)\n",
        "    return list_of_all_models\n"
      ],
      "execution_count": null,
      "outputs": []
    },
    {
      "cell_type": "code",
      "metadata": {
        "colab": {
          "base_uri": "https://localhost:8080/"
        },
        "id": "9a_hFs85StmZ",
        "outputId": "4ce969f2-7120-43d3-aca7-7b471b9ac279"
      },
      "source": [
        "list_of_all_models_f= build_trees(list_input_data_f,list_output_data_f,list_selected_row_f,list_selected_columns_f)"
      ],
      "execution_count": null,
      "outputs": [
        {
          "output_type": "stream",
          "text": [
            "100%|██████████| 30/30 [00:00<00:00, 450.97it/s]\n"
          ],
          "name": "stderr"
        }
      ]
    },
    {
      "cell_type": "markdown",
      "metadata": {
        "id": "TnIMT7_oR312"
      },
      "source": [
        "<font color='blue'><b> Code for calculating MSE on the TRAIN Data</b></font>"
      ]
    },
    {
      "cell_type": "code",
      "metadata": {
        "id": "MI4uiMFyRSMi"
      },
      "source": [
        "def mse_calc(list_of_all_models,x,y,list_selected_columns):\n",
        "    array_of_y=[]\n",
        "    for i in tqdm(range(len(list_of_all_models))):\n",
        "        y=[]\n",
        "    \n",
        "        for j in range(len(x)):\n",
        "            y.append(list_of_all_models[i].predict(x[j][list_selected_columns[i]].reshape(1,-1)))\n",
        "\n",
        "        array_of_y.append(y)\n",
        "    \n",
        "    y_pred=[]\n",
        "    for k in tqdm(range(len(x))):\n",
        "        g=0\n",
        "        for l in range(len(list_of_all_models)):\n",
        "            g= g+array_of_y[l][k][0]\n",
        "        y_pred.append(g/len(list_of_all_models))\n",
        "    \n",
        "    mse=0\n",
        "\n",
        "    for i in tqdm(range(len(y))):\n",
        "        mse=mse+((y[0]-y_pred[0])**2)\n",
        "    mse= mse/len(y)\n",
        "    \n",
        "    return mse,y_pred"
      ],
      "execution_count": null,
      "outputs": []
    },
    {
      "cell_type": "code",
      "metadata": {
        "colab": {
          "base_uri": "https://localhost:8080/"
        },
        "id": "-nNQxfpC4Yb0",
        "outputId": "e5b547e4-4f1f-420e-82ae-3ed6c4268976"
      },
      "source": [
        "MSE,hp_pred= mse_calc(list_of_all_models_f,x,y,list_selected_columns_f)"
      ],
      "execution_count": null,
      "outputs": [
        {
          "output_type": "stream",
          "text": [
            "100%|██████████| 30/30 [00:01<00:00, 26.89it/s]\n",
            "100%|██████████| 506/506 [00:00<00:00, 48868.68it/s]\n",
            "100%|██████████| 506/506 [00:00<00:00, 148237.61it/s]\n"
          ],
          "name": "stderr"
        }
      ]
    },
    {
      "cell_type": "code",
      "metadata": {
        "colab": {
          "base_uri": "https://localhost:8080/"
        },
        "id": "6yUbjkZi5GbY",
        "outputId": "4796d28d-af18-4817-c4a7-a743b7f7c086"
      },
      "source": [
        "print(MSE[0])"
      ],
      "execution_count": null,
      "outputs": [
        {
          "output_type": "stream",
          "text": [
            "0.8673817777777789\n"
          ],
          "name": "stdout"
        }
      ]
    },
    {
      "cell_type": "code",
      "metadata": {
        "colab": {
          "base_uri": "https://localhost:8080/"
        },
        "id": "GP2Db4raJfJx",
        "outputId": "f6358ba4-1f88-4aac-f068-7adaaec8e443"
      },
      "source": [
        "type(hp_pred)"
      ],
      "execution_count": null,
      "outputs": [
        {
          "output_type": "execute_result",
          "data": {
            "text/plain": [
              "list"
            ]
          },
          "metadata": {
            "tags": []
          },
          "execution_count": 24
        }
      ]
    },
    {
      "cell_type": "code",
      "metadata": {
        "colab": {
          "base_uri": "https://localhost:8080/"
        },
        "id": "UlEA_g44ZR9_",
        "outputId": "02984a8e-3f3a-40b1-f19e-8122455f7a72"
      },
      "source": [
        "print(\"The House Price predicted on Train Data is:\",mean(hp_pred))"
      ],
      "execution_count": null,
      "outputs": [
        {
          "output_type": "stream",
          "text": [
            "The House Price predicted on Train Data is: 22.551062481458583\n"
          ],
          "name": "stdout"
        }
      ]
    },
    {
      "cell_type": "markdown",
      "metadata": {
        "id": "zBqcS03pUYSZ"
      },
      "source": [
        "<font color='blue'><b> Calculating OOB score </b></font>"
      ]
    },
    {
      "cell_type": "code",
      "metadata": {
        "id": "64owprtIp-Sf"
      },
      "source": [
        "x_r= list(range(506))"
      ],
      "execution_count": null,
      "outputs": []
    },
    {
      "cell_type": "code",
      "metadata": {
        "id": "z8zpae3Ip-MF"
      },
      "source": [
        "def oob_score(list_of_all_models,list_selected_row,list_selected_columns,x,y):\n",
        "    y_pred_oob=[]\n",
        "    oob_output_data=[]\n",
        "\n",
        "    for i in tqdm(range(len(list_of_all_models))):\n",
        "        oobs= list(set(x_r)-set(list_selected_row[i]))\n",
        "        y_o=[]\n",
        "        outputs=[]\n",
        "    \n",
        "    for j in range(len(oobs)):\n",
        "        y_o.append(list_of_all_models[i].predict(x[j][list_selected_columns[i]].reshape(1,-1)))\n",
        "    y_pred_oob.append(y_o)\n",
        "\n",
        "    for k in range(len(oobs)):\n",
        "        outputs.append(y[oobs[k]])\n",
        "    oob_output_data.append(outputs)\n",
        "\n",
        "    oob_score=0\n",
        "    \n",
        "    for m in tqdm(range(len(oob_output_data))):\n",
        "        o_s=0\n",
        "        for n in range(len(oob_output_data[m])):\n",
        "            o_s= o_s+((y_pred_oob[m][n]-oob_output_data[m][n])**2)[0]\n",
        "            o_s= o_s/len(oob_output_data[m])\n",
        "        oob_score= oob_score+o_s \n",
        "    \n",
        "    oob_score= oob_score/len(oob_output_data)\n",
        "\n",
        "    return oob_score,y_pred_oob\n"
      ],
      "execution_count": null,
      "outputs": []
    },
    {
      "cell_type": "code",
      "metadata": {
        "colab": {
          "base_uri": "https://localhost:8080/"
        },
        "id": "lL9_iNwC6S4s",
        "outputId": "280caaff-202e-4cf5-91fd-b9386f518a3c"
      },
      "source": [
        "OOBScore, hp_oob_pred= oob_score(list_of_all_models_f,list_selected_row_f,list_selected_columns_f,x,y)"
      ],
      "execution_count": null,
      "outputs": [
        {
          "output_type": "stream",
          "text": [
            "100%|██████████| 30/30 [00:00<00:00, 17187.42it/s]\n",
            "100%|██████████| 1/1 [00:00<00:00, 376.07it/s]\n"
          ],
          "name": "stderr"
        }
      ]
    },
    {
      "cell_type": "code",
      "metadata": {
        "colab": {
          "base_uri": "https://localhost:8080/"
        },
        "id": "fjOzkEWlj06B",
        "outputId": "b33d1706-f2a2-4bd1-badb-7b82d15b9ff0"
      },
      "source": [
        "print(OOBScore)"
      ],
      "execution_count": null,
      "outputs": [
        {
          "output_type": "stream",
          "text": [
            "1.6679491928028818\n"
          ],
          "name": "stdout"
        }
      ]
    },
    {
      "cell_type": "code",
      "metadata": {
        "id": "7Ai_K6hDiG4c",
        "colab": {
          "base_uri": "https://localhost:8080/"
        },
        "outputId": "cf18855e-d92b-4810-d593-c47e00156b02"
      },
      "source": [
        "from prettytable import PrettyTable\n",
        "P= PrettyTable()\n",
        "\n",
        "P.field_names= [\"DataSet\",\"Predicted House Price\",\"MSE\"]\n",
        "P.add_row([\"Train Data\",22.55,0.86])\n",
        "P.add_row([\"OOB Data\",24,1.66])\n",
        "\n",
        "print(P)"
      ],
      "execution_count": 1,
      "outputs": [
        {
          "output_type": "stream",
          "text": [
            "+------------+-----------------------+------+\n",
            "|  DataSet   | Predicted House Price | MSE  |\n",
            "+------------+-----------------------+------+\n",
            "| Train Data |         22.55         | 0.86 |\n",
            "|  OOB Data  |           24          | 1.66 |\n",
            "+------------+-----------------------+------+\n"
          ],
          "name": "stdout"
        }
      ]
    },
    {
      "cell_type": "markdown",
      "metadata": {
        "id": "J4r7ResKXCMl"
      },
      "source": [
        "<font color='blue'><b>Observations:</b></font>\n",
        " \n",
        "We see that the mean house price predicted on the in-bag part of the data is 22.55 with a mean squared error of 0.86 which means that the house prices would range from 21.69 to 23.41. Where the house price predicted by the Out of Bag (OOB) data is 24 with a MSE of 1.66, which means that the house price could vary between 22.34 and 25.66. We see a major overlap between both the inbag data and the out of bag data predicted house prices. \n",
        "\n",
        "Hence we can say that the model is very well generalized and performs equally well on both the training data and the new data(Out of Bag data) as the MSE's of inbag and out of bag is 0.86 and 1.66 which are very close to each other."
      ]
    },
    {
      "cell_type": "code",
      "metadata": {
        "id": "AIcax45hWKT-"
      },
      "source": [
        ""
      ],
      "execution_count": null,
      "outputs": []
    }
  ]
}